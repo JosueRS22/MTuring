{
 "cells": [
  {
   "cell_type": "markdown",
   "id": "cb2b53f8-0659-4b76-8eb8-26217cc1b2d9",
   "metadata": {},
   "source": [
    "# Simulación de una Máquina de Turing en Python"
   ]
  },
  {
   "cell_type": "markdown",
   "id": "dc52ea21-e976-4a6c-b3e9-29d8b401fcbb",
   "metadata": {},
   "source": [
    "En este notebook, vamos a implementar una simulación básica de una máquina de Turing. Una máquina de Turing es un modelo matemático de computación que define una hipotética máquina que manipula símbolos en una cinta de acuerdo a un conjunto de reglas."
   ]
  },
  {
   "cell_type": "markdown",
   "id": "146eb6b2-5314-43a9-8f55-7c13457f5889",
   "metadata": {},
   "source": [
    "## Componentes de una Máquina de Turing"
   ]
  },
  {
   "cell_type": "markdown",
   "id": "fb3f36e0-44cd-4d07-9e19-41941b7ac7cf",
   "metadata": {},
   "source": [
    "1. **Cinta (Tape)**: Una cinta infinita en ambas direcciones que contiene símbolos.\n",
    "2. **Cabezal (Head)**: Un cabezal que puede leer y escribir símbolos en la cinta y moverse hacia la izquierda o hacia la derecha.\n",
    "3. **Estado (State)**: Un conjunto de estados en los que puede estar la máquina.\n",
    "4. **Reglas de transición (Transition Rules)**: Un conjunto de reglas que determinan las acciones de la máquina basadas en el símbolo actual bajo el cabezal y el estado actual de la máquina."
   ]
  },
  {
   "cell_type": "markdown",
   "id": "a68b07f8-eaac-4052-a16c-74d5ce0e68e9",
   "metadata": {},
   "source": [
    "## Definición del problema"
   ]
  },
  {
   "cell_type": "markdown",
   "id": "0b7be013-59cf-42c0-a291-00e3c2eb4d8a",
   "metadata": {},
   "source": [
    "Vamos a definir una máquina de Turing que acepte la cadena \"010\" y la convierta en \"101\"."
   ]
  },
  {
   "cell_type": "markdown",
   "id": "fbe303e1-0bc6-4dd3-a35a-9cc32a19d812",
   "metadata": {},
   "source": [
    "### Implementación"
   ]
  },
  {
   "cell_type": "code",
   "execution_count": 39,
   "id": "7c135e8c-9974-468c-8922-7b5b8852ddc6",
   "metadata": {},
   "outputs": [],
   "source": [
    "# Definición de la Máquina de Turing\n",
    "class TuringMachine:\n",
    "    def __init__(self, tape, initial_state, final_states, transition_function):\n",
    "        self.tape = list(tape)\n",
    "        self.head_position = 0\n",
    "        self.current_state = initial_state\n",
    "        self.final_states = final_states\n",
    "        self.transition_function = transition_function\n",
    "\n",
    "    def step(self):\n",
    "        # Leer el símbolo actual en la cinta\n",
    "        current_symbol = self.tape[self.head_position]\n",
    "\n",
    "        # Obtener la transición basada en el estado actual y el símbolo\n",
    "        key = (self.current_state, current_symbol)\n",
    "        if key in self.transition_function:\n",
    "            new_state, new_symbol, direction = self.transition_function[key]\n",
    "\n",
    "            # Escribir el nuevo símbolo en la cinta\n",
    "            self.tape[self.head_position] = new_symbol\n",
    "\n",
    "            # Actualizar el estado actual\n",
    "            self.current_state = new_state\n",
    "\n",
    "            # Mover el cabezal\n",
    "            if direction == 'R':\n",
    "                self.head_position += 1\n",
    "            elif direction == 'L':\n",
    "                self.head_position -= 1\n",
    "\n",
    "        return self.current_state in self.final_states\n",
    "\n",
    "    def run(self):\n",
    "        steps = 0\n",
    "        while not self.step():\n",
    "            steps += 1\n",
    "            if steps > 1000:  # Evitar bucles infinitos\n",
    "                print(\"Máquina de Turing ejecutada durante demasiado tiempo.\")\n",
    "                break\n",
    "\n",
    "        return ''.join(self.tape).strip()\n"
   ]
  },
  {
   "cell_type": "code",
   "execution_count": 92,
   "id": "60aac803-a6b3-4241-b0fd-63f543c62795",
   "metadata": {},
   "outputs": [],
   "source": [
    "# Definición de la máquina de Turing\n",
    "tape = \"000100000\"\n",
    "initial_state = 'q0'\n",
    "final_states = {'qf'}\n",
    "transition_function = {\n",
    "    ('q0', '0'): ('q0', '0', 'R'),\n",
    "    ('q0', '1'): ('q1', '1', 'R'),\n",
    "    ('q1', '0'): ('q2', '0', 'R'),\n",
    "    ('q1', '1'): ('q1', '1', 'R'),\n",
    "    ('q2', '0'): ('qf', '1', 'R'),\n",
    "    ('q2', '1'): ('q2', '1', 'R')\n",
    "}\n"
   ]
  },
  {
   "cell_type": "code",
   "execution_count": 93,
   "id": "ce56f0f8-2e04-4ce2-aba3-727f68b260c6",
   "metadata": {},
   "outputs": [
    {
     "name": "stdout",
     "output_type": "stream",
     "text": [
      "Resultado final de la cinta: 000101000\n"
     ]
    }
   ],
   "source": [
    "# Crear y ejecutar la máquina de Turing\n",
    "tm = TuringMachine(tape, initial_state, final_states, transition_function)\n",
    "result = tm.run()\n",
    "print(f\"Resultado final de la cinta: {result}\")\n"
   ]
  },
  {
   "cell_type": "markdown",
   "id": "ae5b9f8c-54d7-4ce0-90f4-a95c42f717e2",
   "metadata": {},
   "source": [
    "## Explicación del código"
   ]
  },
  {
   "cell_type": "markdown",
   "id": "73c1eff1-c85c-467b-8ccd-703bcd465bcf",
   "metadata": {},
   "source": [
    "1. **Clase `TuringMachine`**: Define los componentes de la máquina de Turing:\n",
    "    - `__init__`: Inicializa la cinta, posición del cabezal, estado inicial, estados finales y la función de transición.\n",
    "    - `step`: Realiza un paso de la máquina de Turing basándose en el estado actual y el símbolo bajo el cabezal.\n",
    "    - `run`: Ejecuta la máquina de Turing hasta que alcance un estado final o se exceda el límite de pasos para evitar bucles infinitos.\n",
    "\n",
    "2. **Definición de la máquina de Turing**:\n",
    "    - `tape`: La cinta inicial con la cadena \"0000100000\".\n",
    "    - `initial_state`: El estado inicial de la máquina, `q0`.\n",
    "    - `final_states`: El conjunto de estados finales, en este caso `qf`.\n",
    "    - `transition_function`: La función de transición que define las reglas de la máquina.\n",
    "\n",
    "3. **Ejecución de la máquina de Turing**: Se crea una instancia de `TuringMachine` y se ejecuta con el método `run`, que devuelve la cinta modificada."
   ]
  },
  {
   "cell_type": "markdown",
   "id": "1a5be01e-85d4-4a96-8178-29ecbd6bf6ac",
   "metadata": {},
   "source": [
    "### Resultados"
   ]
  },
  {
   "cell_type": "markdown",
   "id": "8aa8b9d3-dea5-4baf-831c-beafebdb9e02",
   "metadata": {},
   "source": [
    "Al ejecutar el código, la máquina de Turing debería transformar la cadena \"010\" en \"101\" y mostrar el resultado final en la cinta."
   ]
  },
  {
   "cell_type": "code",
   "execution_count": null,
   "id": "0f80bab8-00e0-4cd6-aaac-227f4a2ee1ca",
   "metadata": {},
   "outputs": [],
   "source": []
  }
 ],
 "metadata": {
  "kernelspec": {
   "display_name": "Python 3 (ipykernel)",
   "language": "python",
   "name": "python3"
  },
  "language_info": {
   "codemirror_mode": {
    "name": "ipython",
    "version": 3
   },
   "file_extension": ".py",
   "mimetype": "text/x-python",
   "name": "python",
   "nbconvert_exporter": "python",
   "pygments_lexer": "ipython3",
   "version": "3.11.7"
  }
 },
 "nbformat": 4,
 "nbformat_minor": 5
}
